{
 "cells": [
  {
   "cell_type": "code",
   "execution_count": 12,
   "id": "93198bd7",
   "metadata": {},
   "outputs": [],
   "source": [
    "import random\n",
    "import numpy as np\n",
    "import matplotlib.pyplot as plt\n",
    "import gridworld\n",
    "import torch"
   ]
  },
  {
   "cell_type": "code",
   "execution_count": 13,
   "id": "f394da62",
   "metadata": {},
   "outputs": [],
   "source": [
    "env = gridworld.GridWorld(hard_version=False) "
   ]
  },
  {
   "cell_type": "code",
   "execution_count": 14,
   "id": "9856f299",
   "metadata": {},
   "outputs": [],
   "source": [
    "n_s = env.num_states\n",
    "n_a = env.num_actions\n",
    "T = env.max_num_steps\n",
    "gamma = 1"
   ]
  },
  {
   "cell_type": "code",
   "execution_count": null,
   "id": "ba091689",
   "metadata": {},
   "outputs": [],
   "source": []
  },
  {
   "cell_type": "code",
   "execution_count": 15,
   "id": "af98f517",
   "metadata": {},
   "outputs": [],
   "source": [
    "def policy(s, theta):\n",
    "    logits = torch.nn.functional.softmax(theta[s,:],dim=0)\n",
    "    return torch.distributions.categorical.Categorical(logits=logits)\n",
    "\n",
    "def action(s, theta):\n",
    "    return policy(s,theta).sample().item()\n",
    "\n",
    "def generate_episode(theta):\n",
    "    states = torch.zeros(T+1, dtype = int)\n",
    "    actions = torch.zeros(T+1, dtype = int)\n",
    "    rewards = torch.zeros(T+1)\n",
    "    states[0] = env.reset()\n",
    "    done = False\n",
    "    t = 0\n",
    "    actions[t] = action(states[t].item(),theta)\n",
    "    while not done:\n",
    "        t+=1\n",
    "        (states[t], rewards[t], done) = env.step(actions[t-1])\n",
    "        actions[t] = action(states[t].item(),theta)\n",
    "    return states, actions, rewards\n",
    "\n",
    "def loss(G, theta, t, s, a, gamma):\n",
    "    return -(gamma**t)*G*policy(s,theta).log_prob(torch.tensor([a]))"
   ]
  },
  {
   "cell_type": "code",
   "execution_count": 16,
   "id": "8d60c3e2",
   "metadata": {},
   "outputs": [],
   "source": [
    "theta_0 = torch.rand(n_s,n_a)\n",
    "theta = theta_0.requires_grad_(requires_grad=True)\n",
    "n_episodes = int(2e3)\n",
    "optimizer = torch.optim.SGD([theta], lr = 1e-2)\n",
    "reward_array = torch.zeros(n_episodes)"
   ]
  },
  {
   "cell_type": "code",
   "execution_count": 204,
   "id": "7042710b",
   "metadata": {},
   "outputs": [],
   "source": [
    "for n in range(n_episodes):\n",
    "    if n%1000 == 0:\n",
    "        lr = 5e-3\n",
    "    states, actions, rewards = generate_episode(theta)\n",
    "    for t in range(T):\n",
    "        G = 0\n",
    "        for k in range(t+1,T,1):\n",
    "            G+= gamma**(k-t-1)*rewards[k]\n",
    "        optimizer.zero_grad()\n",
    "        loss_value = loss(G, theta, t, states[t], actions[t], gamma)\n",
    "        loss_value.backward()\n",
    "        optimizer.step()\n",
    "    reward_array[n] = rewards.sum()"
   ]
  },
  {
   "cell_type": "code",
   "execution_count": 205,
   "id": "37691a3f",
   "metadata": {},
   "outputs": [
    {
     "data": {
      "text/plain": [
       "[<matplotlib.lines.Line2D at 0x7fc0fdf240a0>]"
      ]
     },
     "execution_count": 205,
     "metadata": {},
     "output_type": "execute_result"
    },
    {
     "data": {
      "image/png": "[encoded data removed]",
      "text/plain": [
       "<Figure size 432x288 with 1 Axes>"
      ]
     },
     "metadata": {
      "needs_background": "light"
     },
     "output_type": "display_data"
    }
   ],
   "source": [
    "plt.plot(reward_array)"
   ]
  },
  {
   "cell_type": "code",
   "execution_count": 17,
   "id": "19769fa4",
   "metadata": {},
   "outputs": [
    {
     "data": {
      "text/plain": [
       "tensor([[0.5771, 0.9070, 0.6014, 0.2469],\n",
       "        [0.8030, 0.2273, 0.5096, 0.8182],\n",
       "        [0.4034, 0.1690, 0.2417, 0.0486],\n",
       "        [0.3329, 0.7964, 0.0129, 0.1131],\n",
       "        [0.7650, 0.0670, 0.3082, 0.6922],\n",
       "        [0.3066, 0.1867, 0.7868, 0.4220],\n",
       "        [0.3313, 0.6846, 0.1899, 0.1146],\n",
       "        [0.0690, 0.1222, 0.4262, 0.8043],\n",
       "        [0.6739, 0.6286, 0.8536, 0.8933],\n",
       "        [0.8771, 0.9169, 0.5851, 0.4129],\n",
       "        [0.4457, 0.3401, 0.9159, 0.7584],\n",
       "        [0.4558, 0.2060, 0.6531, 0.1695],\n",
       "        [0.0500, 0.8384, 0.8387, 0.4652],\n",
       "        [0.6377, 0.7331, 0.5470, 0.7913],\n",
       "        [0.4695, 0.0484, 0.3251, 0.7831],\n",
       "        [0.6666, 0.2638, 0.5527, 0.4696],\n",
       "        [0.3449, 0.0314, 0.3387, 0.9608],\n",
       "        [0.3611, 0.7257, 0.7149, 0.1029],\n",
       "        [0.7715, 0.7513, 0.7683, 0.9918],\n",
       "        [0.3398, 0.1047, 0.3847, 0.7108],\n",
       "        [0.7739, 0.0325, 0.6583, 0.8423],\n",
       "        [0.9812, 0.2654, 0.0611, 0.5396],\n",
       "        [0.0999, 0.7810, 0.4784, 0.5722],\n",
       "        [0.2529, 0.1686, 0.6827, 0.9004],\n",
       "        [0.7128, 0.4673, 0.6937, 0.0175]], requires_grad=True)"
      ]
     },
     "execution_count": 17,
     "metadata": {},
     "output_type": "execute_result"
    }
   ],
   "source": [
    "theta"
   ]
  },
  {
   "cell_type": "code",
   "execution_count": 23,
   "id": "6160e6ae",
   "metadata": {},
   "outputs": [
    {
     "data": {
      "text/plain": [
       "<matplotlib.legend.Legend at 0x7fe76b70fee0>"
      ]
     },
     "execution_count": 23,
     "metadata": {},
     "output_type": "execute_result"
    },
    {
     "data": {
      "image/png": "[encoded data removed]",
      "text/plain": [
       "<Figure size 432x288 with 1 Axes>"
      ]
     },
     "metadata": {
      "needs_background": "light"
     },
     "output_type": "display_data"
    }
   ],
   "source": [
    "optimal_p = np.array([0, 0, 2, 0, 2, 0, 1, 1, 2, 2, 0, 1, 1, 1, 1, 0, 1, 1, 1, 1, 0, 1, 1, 1, 1])\n",
    "actions = np.zeros(n_s)\n",
    "\n",
    "for i in range(n_s):\n",
    "    actions[i] = action(i, theta)\n",
    "\n",
    "plt.plot(actions, 'ro', label=\"Reinforce with SGD - Easy Version\")\n",
    "plt.plot(optimal_p, 'go', label=\"Optimal\")\n",
    "plt.title(\"Policy\")\n",
    "plt.xlabel(\"States\")\n",
    "plt.ylabel(\"Actions\")\n",
    "plt.legend()"
   ]
  },
  {
   "cell_type": "code",
   "execution_count": null,
   "id": "bab84fbd",
   "metadata": {},
   "outputs": [],
   "source": []
  }
 ],
 "metadata": {
  "kernelspec": {
   "display_name": "Python 3 (ipykernel)",
   "language": "python",
   "name": "python3"
  },
  "language_info": {
   "codemirror_mode": {
    "name": "ipython",
    "version": 3
   },
   "file_extension": ".py",
   "mimetype": "text/x-python",
   "name": "python",
   "nbconvert_exporter": "python",
   "pygments_lexer": "ipython3",
   "version": "3.9.7"
  }
 },
 "nbformat": 4,
 "nbformat_minor": 5
}
